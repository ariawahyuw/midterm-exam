{
 "cells": [
  {
   "cell_type": "markdown",
   "id": "d4e69cf6",
   "metadata": {},
   "source": [
    "# simple_stats\n",
    "+ [Simple Statistical Analysis](https://www.skillsyouneed.com/num/simple-statistical-analysis.html)\n",
    "+ [Mean Median Mode: What They Are, How to Find Them](https://www.statisticshowto.com/probability-and-statistics/statistics-definitions/mean-median-mode/)\n",
    "+ [Standard Deviation: Definition, Examples](https://www.statisticshowto.com/probability-and-statistics/standard-deviation/)"
   ]
  },
  {
   "cell_type": "markdown",
   "id": "610a877c",
   "metadata": {},
   "source": [
    "## data\n",
    "$$\n",
    "X = \\{ 4, 7, 5, 1, 3, 6, 4, 8, 5, 7, 2, 5, 6, 3, 9, 6, 8, 5, 7, 4 \\} \n",
    "$$"
   ]
  },
  {
   "cell_type": "markdown",
   "id": "e20cbe03",
   "metadata": {},
   "source": [
    "## questions"
   ]
  },
  {
   "cell_type": "markdown",
   "id": "34b93862",
   "metadata": {},
   "source": [
    "### part a (in-class)\n",
    "1. Write equations to obtain $x$ from $X$ and number $N$ of $x$.\n",
    "2. Write equations to obtain mean $x_{\\rm mean}$, median $x_{\\rm med}$, and mode $x_{\\rm mod}$ of $x$.\n",
    "3. Write equation to obtain maximum $x_{\\rm max}$, minimum $x_{\\rm min}$, and range $x_{\\rm range}$ of $x$.\n",
    "4. Write equations to obtain variance $x_{\\rm var}$ and standard deviation $x_{\\rm sdev}$ of $x$."
   ]
  },
  {
   "cell_type": "markdown",
   "id": "5f633191",
   "metadata": {},
   "source": [
    "### part b (take-home)\n",
    "1. Write codes to obtain `x` from `X` and number `N` of `x`.\n",
    "2. Write codes to obtain mean `x_mean`, median `x_med`, and mode `x_mod` of `x`.\n",
    "3. Write codes to obtain maximum `x_max`, minimum `x_min`, and range `x_range` of `x`.\n",
    "4. Write codes to obtain variance `x_var` and standard deviation `x_sdev` of `x`."
   ]
  },
  {
   "cell_type": "markdown",
   "id": "ef5b228b",
   "metadata": {},
   "source": [
    "## answers"
   ]
  },
  {
   "cell_type": "markdown",
   "id": "b33d0a3f",
   "metadata": {},
   "source": [
    "+ Put your answers of part b below this cell.\n",
    "+ Write only one answer in one Code cell.\n",
    "+ There must be **at least four Code cells**.\n",
    "+ Existence of additional Markdown cells for explanation are optional."
   ]
  },
  {
   "attachments": {},
   "cell_type": "markdown",
   "id": "8d848490",
   "metadata": {},
   "source": [
    "### Solusi nomor 1\n",
    "\n",
    "X berada dalam suatu set. Agar dapat diseleksi dengan mudah menggunakan indeks, alangkah lebih baik tipe data X dalam bentuk array (list). Seleksi elemen x dari X dapat menggunakan suatu indeks, dalam hal ini variabel `i`. Indeks awal elemen pertama suatu array adalah nol. Untuk menentukan nilai N, cukup menggunakan fungsi bawaan Python, yaitu `len`. `len` merupakan suatu fungsi untuk menghitung panjang suatu array."
   ]
  },
  {
   "cell_type": "code",
   "execution_count": 1,
   "id": "5299b218",
   "metadata": {},
   "outputs": [
    {
     "name": "stdout",
     "output_type": "stream",
     "text": [
      "x =  6\n",
      "N =  20\n"
     ]
    }
   ],
   "source": [
    "X = [4, 7, 5, 1, 3, 6, 4, 8, 5, 7, 2, 5, 6, 3, 9, 6, 8, 5, 7, 4]\n",
    "i = 5\n",
    "x = X[i]\n",
    "N = len(X)\n",
    "print(\"x = \", x)\n",
    "print(\"N = \", N)"
   ]
  },
  {
   "attachments": {},
   "cell_type": "markdown",
   "id": "a03829c6",
   "metadata": {},
   "source": [
    "### Solusi nomor 2\n",
    "Mean dapat dicari dengan menggunakan fungsi bawaan `sum` yang dibagi oleh banyak data `N`. Disini, diasumsikan seluruh elemen bertipe numerik.\n",
    "\n",
    "Median diperoleh dengan cara menyeleksi dengan kriteria:\n",
    "- Jika N ganjil, (`N % 2 != 0`), maka median berada di elemen ke-(N+1)/2\n",
    "- Jika N genap, (`N % 2 == 0`), maka mediannya adalah rata-rata dari elemen ke N/2 dengan elemen ke N/2 + 1\n",
    "\n",
    "Catatan: indeks elemen perlu dikurangi 1, menyesuaikan dengan sintaksis Python. Kondisi `if (N % 2)` bernilai `true` jika N ganjil.\n",
    "\n",
    "Modus dapat dicari dengan membuat suatu _hash map_, yaitu suatu _dictionary_ frekuensi , `freq`, dengan _keys_ menyatakan nilai elemennya dan _values_ menyatakan frekuensi elemennya. Algoritma yang digunakan juga bekerja jika modus lebih dari satu."
   ]
  },
  {
   "cell_type": "code",
   "execution_count": 2,
   "id": "a6fdec33",
   "metadata": {},
   "outputs": [
    {
     "name": "stdout",
     "output_type": "stream",
     "text": [
      "x_mean = 5.25\n",
      "x_median = 5.0\n",
      "x_mode = 5\n"
     ]
    }
   ],
   "source": [
    "x_mean = sum(X) / N\n",
    "x_sorted = sorted(X)\n",
    "x_median = x_sorted[int((N+1)/2) - 1] if N % 2 else (x_sorted[int(N/2)-1]+x_sorted[int(N/2)])/2\n",
    "freq = {}\n",
    "for x in X:\n",
    "    freq[x] = freq[x] + 1 if x in freq else 1  # Menambahkan frekuensi di array frekuensi jika ada, jika tidak ada maka diberi nilai 1\n",
    "x_mode = [key for key, val in zip(freq.keys(), freq.values()) if val == max(freq.values())]\n",
    "print(\"x_mean =\", x_mean)\n",
    "print(\"x_median =\", x_median)\n",
    "print(\"x_mode =\", *x_mode)"
   ]
  },
  {
   "cell_type": "code",
   "execution_count": 3,
   "id": "0c3faa6d",
   "metadata": {},
   "outputs": [
    {
     "name": "stdout",
     "output_type": "stream",
     "text": [
      "x_min = 1\n",
      "x_max = 9\n",
      "x_range = 8\n"
     ]
    }
   ],
   "source": [
    "#Solusi nomor 3\n",
    "x_min, x_max = X[0], X[0]\n",
    "for i in range(1, N):\n",
    "    if X[i] < x_min:\n",
    "        x_min = X[i]\n",
    "    elif X[i] > x_max:\n",
    "        x_max = X[i]\n",
    "x_range = x_max - x_min\n",
    "print(\"x_min =\", x_min)\n",
    "print(\"x_max =\", x_max)\n",
    "print(\"x_range =\", x_range)"
   ]
  },
  {
   "cell_type": "code",
   "execution_count": 4,
   "id": "e350f6fa",
   "metadata": {},
   "outputs": [
    {
     "name": "stdout",
     "output_type": "stream",
     "text": [
      "x_var = 4.1875\n",
      "x_std = 2.0463381929681126\n"
     ]
    }
   ],
   "source": [
    "#Solusi nomor 4\n",
    "x_var = sum([(x_i - x_mean)**2 for x_i in X]) / N\n",
    "x_std = x_var ** 0.5\n",
    "print(\"x_var =\", x_var)\n",
    "print(\"x_std =\", x_std)"
   ]
  }
 ],
 "metadata": {
  "authors": [
   {
    "name": "Sparisoma Viridi"
   }
  ],
  "kernelspec": {
   "display_name": "Python 3 (ipykernel)",
   "language": "python",
   "name": "python3"
  },
  "language_info": {
   "codemirror_mode": {
    "name": "ipython",
    "version": 3
   },
   "file_extension": ".py",
   "mimetype": "text/x-python",
   "name": "python",
   "nbconvert_exporter": "python",
   "pygments_lexer": "ipython3",
   "version": "3.10.9"
  },
  "title": "simple_stats"
 },
 "nbformat": 4,
 "nbformat_minor": 5
}
